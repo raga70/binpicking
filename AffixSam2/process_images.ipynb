{
 "cells": [
  {
   "cell_type": "code",
   "execution_count": null,
   "id": "e190d2f7-7b7b-49c0-97d9-9642e346f432",
   "metadata": {},
   "outputs": [],
   "source": [
    "import os\n",
    "import cv2\n",
    "import numpy as np\n",
    "from sam2.modeling import SamPredictor\n",
    "from sam2.utils.visualization import show_masks\n",
    "from sam2.utils.helpers import load_checkpoint\n",
    "\n",
    "# Step 1: Load SAM2 model\n",
    "model_checkpoint = \"checkpoints/sam2.1_hiera_large.pt\"  # Path to your SAM2 checkpoint\n",
    "sam_model = load_checkpoint(model_checkpoint)\n",
    "predictor = SamPredictor(sam_model)\n",
    "\n",
    "# Step 2: Input and output folder setup\n",
    "input_folder = \"notebooks/images\"  # Your folder with input images\n",
    "output_folder = \"notebooks/output_masks\"  # Folder to save the masks\n",
    "os.makedirs(output_folder, exist_ok=True)\n",
    "\n",
    "# Step 3: Process each image\n",
    "for filename in os.listdir(input_folder):\n",
    "    if filename.startswith(\"color_\") and filename.endswith((\".jpg\", \".png\")):\n",
    "        print(f\"Processing {filename}...\")\n",
    "        image_path = os.path.join(input_folder, filename)\n",
    "\n",
    "        # Load the image\n",
    "        image = cv2.imread(image_path)\n",
    "        image = cv2.cvtColor(image, cv2.COLOR_BGR2RGB)  # Convert BGR to RGB\n",
    "\n",
    "        # Run SAM2 prediction\n",
    "        predictor.set_image(image)\n",
    "        input_point = np.array([[100, 100]])  # Example point (adjust as needed)\n",
    "        input_label = np.array([1])  # Positive point label\n",
    "        masks, scores = predictor.predict(\n",
    "            point_coords=input_point,\n",
    "            point_labels=input_label,\n",
    "            multimask_output=False\n",
    "        )\n",
    "\n",
    "        # Save the mask as a black-and-white image\n",
    "        mask_output = (masks[0] * 255).astype(np.uint8)\n",
    "        mask_path = os.path.join(output_folder, f\"{os.path.splitext(filename)[0]}_mask.png\")\n",
    "        cv2.imwrite(mask_path, mask_output)\n",
    "\n",
    "        # Optional: Visualize the mask\n",
    "        print(f\"Saved mask for {filename} to {mask_path}\")\n"
   ]
  }
 ],
 "metadata": {
  "kernelspec": {
   "display_name": "Python 3 (ipykernel)",
   "language": "python",
   "name": "python3"
  },
  "language_info": {
   "codemirror_mode": {
    "name": "ipython",
    "version": 3
   },
   "file_extension": ".py",
   "mimetype": "text/x-python",
   "name": "python",
   "nbconvert_exporter": "python",
   "pygments_lexer": "ipython3",
   "version": "3.10.12"
  }
 },
 "nbformat": 4,
 "nbformat_minor": 5
}
